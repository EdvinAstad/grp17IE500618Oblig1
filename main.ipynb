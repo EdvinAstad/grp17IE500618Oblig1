{
 "cells": [
  {
   "cell_type": "code",
   "execution_count": 28,
   "metadata": {},
   "outputs": [],
   "source": [
    "import pandas as pd\n",
    "import numpy as np\n",
    "import matplotlib as plt\n",
    "from sklearn.linear_model import LinearRegression as linreg\n",
    "from sklearn.model_selection import train_test_split as ttsplit"
   ]
  },
  {
   "cell_type": "code",
   "execution_count": 5,
   "metadata": {},
   "outputs": [],
   "source": [
    "housing = pd.read_csv('AmesHousing.csv')"
   ]
  },
  {
   "cell_type": "code",
   "execution_count": 32,
   "metadata": {},
   "outputs": [
    {
     "name": "stdout",
     "output_type": "stream",
     "text": [
      "<class 'pandas.core.frame.DataFrame'>\n",
      "RangeIndex: 2930 entries, 0 to 2929\n",
      "Data columns (total 13 columns):\n",
      " #   Column          Non-Null Count  Dtype  \n",
      "---  ------          --------------  -----  \n",
      " 0   MS SubClass     2930 non-null   int64  \n",
      " 1   Lot Frontage    2930 non-null   float64\n",
      " 2   Lot Area        2930 non-null   int64  \n",
      " 3   Overall Qual    2930 non-null   int64  \n",
      " 4   Overall Cond    2930 non-null   int64  \n",
      " 5   Year Built      2930 non-null   int64  \n",
      " 6   Year Remod/Add  2930 non-null   int64  \n",
      " 7   Mas Vnr Area    2930 non-null   float64\n",
      " 8   Wood Deck SF    2930 non-null   int64  \n",
      " 9   Open Porch SF   2930 non-null   int64  \n",
      " 10  Mo Sold         2930 non-null   int64  \n",
      " 11  Yr Sold         2930 non-null   int64  \n",
      " 12  SalePrice       2930 non-null   int64  \n",
      "dtypes: float64(2), int64(11)\n",
      "memory usage: 297.7 KB\n"
     ]
    }
   ],
   "source": [
    "housing.info()"
   ]
  },
  {
   "cell_type": "code",
   "execution_count": 34,
   "metadata": {},
   "outputs": [
    {
     "data": {
      "text/plain": [
       "MS SubClass       0\n",
       "Lot Frontage      0\n",
       "Lot Area          0\n",
       "Overall Qual      0\n",
       "Overall Cond      0\n",
       "Year Built        0\n",
       "Year Remod/Add    0\n",
       "Mas Vnr Area      0\n",
       "Wood Deck SF      0\n",
       "Open Porch SF     0\n",
       "Mo Sold           0\n",
       "Yr Sold           0\n",
       "SalePrice         0\n",
       "dtype: int64"
      ]
     },
     "execution_count": 34,
     "metadata": {},
     "output_type": "execute_result"
    }
   ],
   "source": [
    "housing.isnull().sum()"
   ]
  },
  {
   "cell_type": "code",
   "execution_count": null,
   "metadata": {},
   "outputs": [],
   "source": []
  }
 ],
 "metadata": {
  "kernelspec": {
   "display_name": "Python 3",
   "language": "python",
   "name": "python3"
  },
  "language_info": {
   "codemirror_mode": {
    "name": "ipython",
    "version": 3
   },
   "file_extension": ".py",
   "mimetype": "text/x-python",
   "name": "python",
   "nbconvert_exporter": "python",
   "pygments_lexer": "ipython3",
   "version": "3.10.12"
  }
 },
 "nbformat": 4,
 "nbformat_minor": 2
}
