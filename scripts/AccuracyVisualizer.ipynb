{
 "cells": [
  {
   "cell_type": "code",
   "execution_count": 5,
   "metadata": {},
   "outputs": [],
   "source": [
    "from typing import Union\n",
    "from sklearn.base import RegressorMixin\n",
    "from sklearn.metrics import mean_squared_error\n",
    "import matplotlib.pyplot as plt\n",
    "import numpy as np\n",
    "%run ../scripts/AiModel.ipynb"
   ]
  },
  {
   "cell_type": "code",
   "execution_count": 6,
   "metadata": {},
   "outputs": [],
   "source": [
    "\n",
    "\n",
    "class AccracyVisualizer():\n",
    "    @staticmethod\n",
    "    def evaluate_model(model: AiModel):\n",
    "        \"\"\"\n",
    "        Evaluates and displays mean square error and r-squared value between two data sets.\n",
    "\n",
    "        Parameters:\n",
    "        model(linreg, rfreg): AI model which is to be evaluated.\n",
    "        target_test(): target-values from test data.\n",
    "        target_prediction(): target-vale predictions based on training data.\n",
    "        featutes_test(): feature-values from test data.\n",
    "        \"\"\"\n",
    "        \n",
    "        mse = mean_squared_error(model.test_features, model.predict(model.test_features))\n",
    "        r_squared = model.score(model.test_features, model.test_target)\n",
    "        #displays mean square error\n",
    "        print(f\"Mean Squared Error: {mse.round(0).astype(int)}\")\n",
    "        #displays r-squared\n",
    "        print(f\"R-squared: {r_squared}\")\n",
    "\n",
    "    @staticmethod\n",
    "    def visualize_ai_model(model: AiModel, x_axis_label: str = 'x-values', y_axis_label: str = 'y-values'):\n",
    "        \"\"\"\n",
    "        Displays a graph compairong one set of values to another.\n",
    "\n",
    "        Parameters:\n",
    "        y_test(array): Data which is being compared to the other. Will be sortd in ascending order of the other dataset.\n",
    "        y_pred(array): Defult data. Will be sorted in ascending order.\n",
    "        x_axis(str): Label for x-axis.\n",
    "        y_axis(ste): Label for y axis.\n",
    "        \"\"\"\n",
    "\n",
    "        sorted_indices = np.argsort(model.testing_target)\n",
    "        sorted_y_test = model.testin_target[sorted_indices]\n",
    "        sorted_y_pred = model.test_data_target_predictions[sorted_indices]\n",
    "\n",
    "        plt.figure(figsize=(12, 6))\n",
    "\n",
    "        plt.plot(sorted_y_test, label='Actual Values', color='blue', marker='o', linestyle='-', markersize=5)\n",
    "\n",
    "        plt.plot(sorted_y_pred, label='Predicted Values', color='red', marker='x', linestyle='', markersize=5)\n",
    "\n",
    "        plt.xlabel(x_axis_label)\n",
    "        plt.ylabel(y_axis_label)\n",
    "        plt.title('Comparison of Actual vs. Predicted Values')\n",
    "        plt.legend()\n",
    "\n",
    "        plt.show()"
   ]
  }
 ],
 "metadata": {
  "kernelspec": {
   "display_name": "Python 3",
   "language": "python",
   "name": "python3"
  },
  "language_info": {
   "codemirror_mode": {
    "name": "ipython",
    "version": 3
   },
   "file_extension": ".py",
   "mimetype": "text/x-python",
   "name": "python",
   "nbconvert_exporter": "python",
   "pygments_lexer": "ipython3",
   "version": "3.10.12"
  }
 },
 "nbformat": 4,
 "nbformat_minor": 2
}
